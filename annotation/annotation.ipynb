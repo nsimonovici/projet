{
 "cells": [
  {
   "cell_type": "markdown",
   "metadata": {},
   "source": [
    "# Imports"
   ]
  },
  {
   "cell_type": "code",
   "execution_count": 1,
   "metadata": {},
   "outputs": [],
   "source": [
    "import pandas as pd\n",
    "import os\n",
    "import pathlib"
   ]
  },
  {
   "cell_type": "markdown",
   "metadata": {},
   "source": [
    "# Data"
   ]
  },
  {
   "cell_type": "code",
   "execution_count": 13,
   "metadata": {},
   "outputs": [
    {
     "name": "stdout",
     "output_type": "stream",
     "text": [
      "..\\data\\collecte du 26 decembre\n",
      "..\\data\\collecte du 26 novembre\n",
      "..\\data\\infos collecte données communalytics.txt\n",
      "..\\data\\project-1-at-2024-12-23-15-32-de79597b.csv\n",
      "..\\data\\project-1-at-2024-12-23-15-44-7d7b1a28.json\n",
      "..\\data\\project-1-at-2024-12-26-10-59-82fcc174.json\n",
      "..\\data\\collecte du 26 decembre\\bluesky-comptes-politiques-1-new_-only-new.csv\n",
      "..\\data\\collecte du 26 decembre\\bluesky-comptes-politiques-1-new_-only-new2.csv\n",
      "..\\data\\collecte du 26 decembre\\bluesky-comptes-politiques-1-new_.csv\n",
      "..\\data\\collecte du 26 decembre\\bluesky-comptes-politiques-1-new_.xlsx\n",
      "..\\data\\collecte du 26 decembre\\bluesky-comptes-politiques-2-new_-only-new.csv\n",
      "..\\data\\collecte du 26 decembre\\bluesky-comptes-politiques-2-new_.csv\n",
      "..\\data\\collecte du 26 decembre\\bluesky-comptes-politiques-2-new_.xlsx\n",
      "..\\data\\collecte du 26 decembre\\bluesky-comptes-politiques-3-new_-only-new.csv\n",
      "..\\data\\collecte du 26 decembre\\bluesky-comptes-politiques-3-new_.csv\n",
      "..\\data\\collecte du 26 decembre\\bluesky-comptes-politiques-3-new_.xlsx\n",
      "..\\data\\collecte du 26 decembre\\bluesky-comptes-politiques-renaissance_.csv\n",
      "..\\data\\collecte du 26 decembre\\bluesky-comptes-politiques-renaissance_.xlsx\n",
      "..\\data\\collecte du 26 decembre\\bluesky-comptes-politiques-rn_.csv\n",
      "..\\data\\collecte du 26 decembre\\bluesky-comptes-politiques-rn_.xlsx\n",
      "..\\data\\collecte du 26 novembre\\bluesky-comptes-politiques-2_.csv\n",
      "..\\data\\collecte du 26 novembre\\bluesky-comptes-politiques-2_.xlsx\n",
      "..\\data\\collecte du 26 novembre\\bluesky-comptes-politiques-3_.csv\n",
      "..\\data\\collecte du 26 novembre\\bluesky-comptes-politiques-3_.xlsx\n",
      "..\\data\\collecte du 26 novembre\\bluesky-comptes-politiques_.csv\n",
      "..\\data\\collecte du 26 novembre\\bluesky-comptes-politiques_.xlsx\n",
      "..\\data\\collecte du 26 novembre\\bluesky-politique_.csv\n",
      "..\\data\\collecte du 26 novembre\\bluesky-politique_.xlsx\n"
     ]
    }
   ],
   "source": [
    "dir_data = '../data'\n",
    "path = pathlib.Path(dir_data)\n",
    "for p in path.rglob(\"*\"):\n",
    "    print(p)"
   ]
  },
  {
   "cell_type": "code",
   "execution_count": 27,
   "metadata": {},
   "outputs": [
    {
     "data": {
      "text/plain": [
       "Timestamp('2024-11-25 19:31:55.840000')"
      ]
     },
     "execution_count": 27,
     "metadata": {},
     "output_type": "execute_result"
    }
   ],
   "source": [
    "df_pol_1 = pd.read_csv(\"../data/collecte du 26 novembre/bluesky-comptes-politiques_.csv\")\n",
    "df_pol_1['date'] = pd.to_datetime(df_pol_1['date'], format=\"ISO8601\")\n",
    "df_pol_1.sort_values(by='date', ascending=False, inplace=True)\n",
    "datetime_first_collect_df_pol_1 = df_pol_1.date.iloc[0]\n",
    "datetime_first_collect_df_pol_1"
   ]
  },
  {
   "cell_type": "code",
   "execution_count": 28,
   "metadata": {},
   "outputs": [
    {
     "data": {
      "text/plain": [
       "Timestamp('2024-11-26 08:59:51.052000')"
      ]
     },
     "execution_count": 28,
     "metadata": {},
     "output_type": "execute_result"
    }
   ],
   "source": [
    "df_pol_2 = pd.read_csv(\"../data/collecte du 26 novembre/bluesky-comptes-politiques-2_.csv\")\n",
    "df_pol_2['date'] = pd.to_datetime(df_pol_2['date'], format=\"ISO8601\")\n",
    "df_pol_2.sort_values(by='date', ascending=False, inplace=True)\n",
    "datetime_first_collect_df_pol_2 = df_pol_2.date.iloc[0]\n",
    "datetime_first_collect_df_pol_2"
   ]
  },
  {
   "cell_type": "code",
   "execution_count": 29,
   "metadata": {},
   "outputs": [
    {
     "data": {
      "text/plain": [
       "Timestamp('2024-11-26 08:47:08.359000')"
      ]
     },
     "execution_count": 29,
     "metadata": {},
     "output_type": "execute_result"
    }
   ],
   "source": [
    "df_pol_3 = pd.read_csv(\"../data/collecte du 26 novembre/bluesky-comptes-politiques-3_.csv\")\n",
    "df_pol_3['date'] = pd.to_datetime(df_pol_3['date'], format=\"ISO8601\")\n",
    "df_pol_3.sort_values(by='date', ascending=False, inplace=True)\n",
    "datetime_first_collect_df_pol_3 = df_pol_3.date.iloc[0]\n",
    "datetime_first_collect_df_pol_3"
   ]
  },
  {
   "cell_type": "code",
   "execution_count": 36,
   "metadata": {},
   "outputs": [
    {
     "name": "stdout",
     "output_type": "stream",
     "text": [
      "(203, 15)\n"
     ]
    }
   ],
   "source": [
    "df_pol_new_1 = pd.read_csv(\"../data/collecte du 26 decembre/bluesky-comptes-politiques-1-new_.csv\")\n",
    "df_pol_new_1['date'] = pd.to_datetime(df_pol_new_1['date'], format=\"ISO8601\")\n",
    "df_pol_new_1.sort_values(by='date', ascending=False, inplace=True)\n",
    "df_pol_1_only_new = df_pol_new_1[df_pol_new_1.date >= datetime_first_collect_df_pol_1]\n",
    "print(df_pol_1_only_new.shape)\n",
    "df_pol_1_only_new.to_csv(\"../data/collecte du 26 decembre/bluesky-comptes-politiques-1-only-new_.csv\", sep=',', index=False)\n"
   ]
  },
  {
   "cell_type": "code",
   "execution_count": 37,
   "metadata": {},
   "outputs": [
    {
     "name": "stdout",
     "output_type": "stream",
     "text": [
      "(100, 15)\n"
     ]
    }
   ],
   "source": [
    "df_pol_new_2 = pd.read_csv(\"../data/collecte du 26 decembre/bluesky-comptes-politiques-2-new_.csv\")\n",
    "df_pol_new_2['date'] = pd.to_datetime(df_pol_new_2['date'], format=\"ISO8601\")\n",
    "df_pol_new_2.sort_values(by='date', ascending=False, inplace=True)\n",
    "df_pol_2_only_new = df_pol_new_2[df_pol_new_2.date >= datetime_first_collect_df_pol_2]\n",
    "print(df_pol_2_only_new.shape)\n",
    "df_pol_2_only_new.to_csv(\"../data/collecte du 26 decembre/bluesky-comptes-politiques-2-only-new_.csv\", sep=',', index=False)\n"
   ]
  },
  {
   "cell_type": "code",
   "execution_count": 39,
   "metadata": {},
   "outputs": [
    {
     "name": "stdout",
     "output_type": "stream",
     "text": [
      "(169, 15)\n"
     ]
    }
   ],
   "source": [
    "df_pol_new_3 = pd.read_csv(\"../data/collecte du 26 decembre/bluesky-comptes-politiques-3-new_.csv\")\n",
    "df_pol_new_3['date'] = pd.to_datetime(df_pol_new_3['date'], format=\"ISO8601\")\n",
    "df_pol_new_3.sort_values(by='date', ascending=False, inplace=True)\n",
    "df_pol_3_only_new = df_pol_new_3[df_pol_new_3.date >= datetime_first_collect_df_pol_3]\n",
    "print(df_pol_3_only_new.shape)\n",
    "df_pol_3_only_new.to_csv(\"../data/collecte du 26 decembre/bluesky-comptes-politiques-3-only-new_.csv\", sep=',', index=False)\n"
   ]
  },
  {
   "cell_type": "code",
   "execution_count": 71,
   "metadata": {},
   "outputs": [
    {
     "name": "stdout",
     "output_type": "stream",
     "text": [
      "(2074, 15)\n"
     ]
    }
   ],
   "source": [
    "df_renaissance = pd.read_csv(\"../data/collecte du 26 decembre/bluesky-comptes-politiques-renaissance_.csv\")\n",
    "df_renaissance['date'] = pd.to_datetime(df_renaissance['date'], format=\"ISO8601\")\n",
    "df_renaissance.sort_values(by='date', ascending=True, inplace=True)\n",
    "df_renaissance.dropna(subset=['text'], inplace=True) # Pas de texte vide\n",
    "df_renaissance = df_renaissance[df_renaissance.loc[:, 'text'].str.len() >= 30] # Posts d'au moins 20 caractères\n",
    "df_renaissance.reset_index(drop=True)\n",
    "print(df_renaissance.shape)\n",
    "df_renaissance_sampled = df_renaissance.sample(200, random_state=42).copy() # 42 pour répétabilité\n",
    "\n",
    "with open(\"../data/collecte du 26 decembre/index_renaissance.txt\", \"w\") as file:\n",
    "    file.write(\"used_index\\n\")\n",
    "    indeces = df_renaissance_sampled.index.to_list()\n",
    "    for index in indeces:\n",
    "        file.write(str(index))\n",
    "        file.write('\\n')\n",
    "\n",
    "df_renaissance_sampled.to_csv(\"../data/collecte du 26 decembre/bluesky-comptes-politiques-renaissance-sampled_.csv\", sep=',', index=False)\n"
   ]
  }
 ],
 "metadata": {
  "kernelspec": {
   "display_name": "Python3 (projet-ensae)",
   "language": "python",
   "name": "projet-ensae"
  },
  "language_info": {
   "codemirror_mode": {
    "name": "ipython",
    "version": 3
   },
   "file_extension": ".py",
   "mimetype": "text/x-python",
   "name": "python",
   "nbconvert_exporter": "python",
   "pygments_lexer": "ipython3",
   "version": "3.12.7"
  }
 },
 "nbformat": 4,
 "nbformat_minor": 2
}
