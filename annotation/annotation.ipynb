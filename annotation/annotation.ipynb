{
 "cells": [
  {
   "cell_type": "markdown",
   "metadata": {},
   "source": [
    "# Imports"
   ]
  },
  {
   "cell_type": "code",
   "execution_count": 8,
   "metadata": {},
   "outputs": [],
   "source": [
    "import pandas as pd\n",
    "import numpy as np\n",
    "import os\n",
    "import pathlib"
   ]
  },
  {
   "cell_type": "markdown",
   "metadata": {},
   "source": [
    "# Observer les données"
   ]
  },
  {
   "cell_type": "code",
   "execution_count": 5,
   "metadata": {},
   "outputs": [
    {
     "data": {
      "text/html": [
       "<div>\n",
       "<style scoped>\n",
       "    .dataframe tbody tr th:only-of-type {\n",
       "        vertical-align: middle;\n",
       "    }\n",
       "\n",
       "    .dataframe tbody tr th {\n",
       "        vertical-align: top;\n",
       "    }\n",
       "\n",
       "    .dataframe thead th {\n",
       "        text-align: right;\n",
       "    }\n",
       "</style>\n",
       "<table border=\"1\" class=\"dataframe\">\n",
       "  <thead>\n",
       "    <tr style=\"text-align: right;\">\n",
       "      <th></th>\n",
       "      <th>inner_id</th>\n",
       "      <th>topic</th>\n",
       "      <th>topic_idx</th>\n",
       "      <th>data.text</th>\n",
       "      <th>data.name</th>\n",
       "      <th>file_upload</th>\n",
       "      <th>id</th>\n",
       "      <th>data.url</th>\n",
       "      <th>data.username</th>\n",
       "      <th>data.date</th>\n",
       "    </tr>\n",
       "  </thead>\n",
       "  <tbody>\n",
       "    <tr>\n",
       "      <th>0</th>\n",
       "      <td>1</td>\n",
       "      <td>[\"social\"]</td>\n",
       "      <td>[11]</td>\n",
       "      <td>Stop #ViolenceAgainstWomen!\\n\\n#OrangeTheWorld...</td>\n",
       "      <td>L’Europe Ensemble</td>\n",
       "      <td>1de050d6-bluesky-comptes-politiques-2_.csv</td>\n",
       "      <td>1</td>\n",
       "      <td>https://bsky.app/profile/fabiennekeller.bsky.s...</td>\n",
       "      <td>ensembleue.bsky.social</td>\n",
       "      <td>2024-11-25 19:25:10.459000</td>\n",
       "    </tr>\n",
       "  </tbody>\n",
       "</table>\n",
       "</div>"
      ],
      "text/plain": [
       "   inner_id       topic topic_idx  \\\n",
       "0         1  [\"social\"]      [11]   \n",
       "\n",
       "                                           data.text          data.name  \\\n",
       "0  Stop #ViolenceAgainstWomen!\\n\\n#OrangeTheWorld...  L’Europe Ensemble   \n",
       "\n",
       "                                  file_upload  id  \\\n",
       "0  1de050d6-bluesky-comptes-politiques-2_.csv   1   \n",
       "\n",
       "                                            data.url           data.username  \\\n",
       "0  https://bsky.app/profile/fabiennekeller.bsky.s...  ensembleue.bsky.social   \n",
       "\n",
       "                    data.date  \n",
       "0  2024-11-25 19:25:10.459000  "
      ]
     },
     "execution_count": 5,
     "metadata": {},
     "output_type": "execute_result"
    }
   ],
   "source": [
    "data_raw = pd.read_csv(\"../data/prepared/project-1-at-2024-12-27-15-41-3fe0002a_prepared.csv\", sep=\";\")\n",
    "data_raw.head(1)"
   ]
  },
  {
   "cell_type": "code",
   "execution_count": 6,
   "metadata": {},
   "outputs": [],
   "source": [
    "dict_labels_index = {'autre':0,\n",
    "    'culture et médias':1,\n",
    "    'environnement':2,\n",
    "    'économie':3,\n",
    "    'éducation':4,\n",
    "    'fiscalité':5,\n",
    "    'institutions':6,\n",
    "    'immigration':7,\n",
    "    'international':8,\n",
    "    'outre-mer':9,\n",
    "    'pouvoir d’achat':10,\n",
    "    'social':11,\n",
    "    'services publics':12,\n",
    "    'santé':13,\n",
    "    'sécurité / justice':14,\n",
    "    'vie politique':15}\n",
    "\n",
    "dict_index_labels = {value:key for key, value in dict_labels_index.items()}"
   ]
  },
  {
   "cell_type": "code",
   "execution_count": 23,
   "metadata": {},
   "outputs": [
    {
     "data": {
      "text/html": [
       "<div>\n",
       "<style scoped>\n",
       "    .dataframe tbody tr th:only-of-type {\n",
       "        vertical-align: middle;\n",
       "    }\n",
       "\n",
       "    .dataframe tbody tr th {\n",
       "        vertical-align: top;\n",
       "    }\n",
       "\n",
       "    .dataframe thead th {\n",
       "        text-align: right;\n",
       "    }\n",
       "</style>\n",
       "<table border=\"1\" class=\"dataframe\">\n",
       "  <thead>\n",
       "    <tr style=\"text-align: right;\">\n",
       "      <th></th>\n",
       "      <th>data.text</th>\n",
       "      <th>autre</th>\n",
       "      <th>culture et médias</th>\n",
       "      <th>environnement</th>\n",
       "      <th>économie</th>\n",
       "      <th>éducation</th>\n",
       "      <th>fiscalité</th>\n",
       "      <th>institutions</th>\n",
       "      <th>immigration</th>\n",
       "      <th>international</th>\n",
       "      <th>outre-mer</th>\n",
       "      <th>pouvoir d’achat</th>\n",
       "      <th>social</th>\n",
       "      <th>services publics</th>\n",
       "      <th>santé</th>\n",
       "      <th>sécurité / justice</th>\n",
       "      <th>vie politique</th>\n",
       "    </tr>\n",
       "  </thead>\n",
       "  <tbody>\n",
       "    <tr>\n",
       "      <th>0</th>\n",
       "      <td>Stop #ViolenceAgainstWomen!\\n\\n#OrangeTheWorld...</td>\n",
       "      <td>0.0</td>\n",
       "      <td>0.0</td>\n",
       "      <td>0.0</td>\n",
       "      <td>0.0</td>\n",
       "      <td>0.0</td>\n",
       "      <td>0.0</td>\n",
       "      <td>0.0</td>\n",
       "      <td>0.0</td>\n",
       "      <td>0.0</td>\n",
       "      <td>0.0</td>\n",
       "      <td>0.0</td>\n",
       "      <td>1.0</td>\n",
       "      <td>0.0</td>\n",
       "      <td>0.0</td>\n",
       "      <td>0.0</td>\n",
       "      <td>0.0</td>\n",
       "    </tr>\n",
       "    <tr>\n",
       "      <th>1</th>\n",
       "      <td>La violence à l’égard des femmes reste une urg...</td>\n",
       "      <td>0.0</td>\n",
       "      <td>0.0</td>\n",
       "      <td>0.0</td>\n",
       "      <td>0.0</td>\n",
       "      <td>0.0</td>\n",
       "      <td>0.0</td>\n",
       "      <td>0.0</td>\n",
       "      <td>0.0</td>\n",
       "      <td>0.0</td>\n",
       "      <td>0.0</td>\n",
       "      <td>0.0</td>\n",
       "      <td>1.0</td>\n",
       "      <td>0.0</td>\n",
       "      <td>0.0</td>\n",
       "      <td>0.0</td>\n",
       "      <td>0.0</td>\n",
       "    </tr>\n",
       "    <tr>\n",
       "      <th>2</th>\n",
       "      <td>« Notre position sur le Mercosur, depuis 2019,...</td>\n",
       "      <td>0.0</td>\n",
       "      <td>0.0</td>\n",
       "      <td>0.0</td>\n",
       "      <td>1.0</td>\n",
       "      <td>0.0</td>\n",
       "      <td>0.0</td>\n",
       "      <td>0.0</td>\n",
       "      <td>0.0</td>\n",
       "      <td>1.0</td>\n",
       "      <td>0.0</td>\n",
       "      <td>0.0</td>\n",
       "      <td>0.0</td>\n",
       "      <td>0.0</td>\n",
       "      <td>0.0</td>\n",
       "      <td>0.0</td>\n",
       "      <td>0.0</td>\n",
       "    </tr>\n",
       "    <tr>\n",
       "      <th>3</th>\n",
       "      <td>Nouvelle session plénière à Strasbourg ! À l’o...</td>\n",
       "      <td>0.0</td>\n",
       "      <td>0.0</td>\n",
       "      <td>0.0</td>\n",
       "      <td>1.0</td>\n",
       "      <td>0.0</td>\n",
       "      <td>0.0</td>\n",
       "      <td>0.0</td>\n",
       "      <td>0.0</td>\n",
       "      <td>1.0</td>\n",
       "      <td>0.0</td>\n",
       "      <td>0.0</td>\n",
       "      <td>1.0</td>\n",
       "      <td>0.0</td>\n",
       "      <td>0.0</td>\n",
       "      <td>0.0</td>\n",
       "      <td>0.0</td>\n",
       "    </tr>\n",
       "    <tr>\n",
       "      <th>4</th>\n",
       "      <td>Désaveu cinglant pour Meloni qui se résout à r...</td>\n",
       "      <td>0.0</td>\n",
       "      <td>0.0</td>\n",
       "      <td>0.0</td>\n",
       "      <td>0.0</td>\n",
       "      <td>0.0</td>\n",
       "      <td>0.0</td>\n",
       "      <td>0.0</td>\n",
       "      <td>1.0</td>\n",
       "      <td>1.0</td>\n",
       "      <td>0.0</td>\n",
       "      <td>0.0</td>\n",
       "      <td>0.0</td>\n",
       "      <td>0.0</td>\n",
       "      <td>0.0</td>\n",
       "      <td>0.0</td>\n",
       "      <td>0.0</td>\n",
       "    </tr>\n",
       "  </tbody>\n",
       "</table>\n",
       "</div>"
      ],
      "text/plain": [
       "                                           data.text  autre  \\\n",
       "0  Stop #ViolenceAgainstWomen!\\n\\n#OrangeTheWorld...    0.0   \n",
       "1  La violence à l’égard des femmes reste une urg...    0.0   \n",
       "2  « Notre position sur le Mercosur, depuis 2019,...    0.0   \n",
       "3  Nouvelle session plénière à Strasbourg ! À l’o...    0.0   \n",
       "4  Désaveu cinglant pour Meloni qui se résout à r...    0.0   \n",
       "\n",
       "   culture et médias  environnement  économie  éducation  fiscalité  \\\n",
       "0                0.0            0.0       0.0        0.0        0.0   \n",
       "1                0.0            0.0       0.0        0.0        0.0   \n",
       "2                0.0            0.0       1.0        0.0        0.0   \n",
       "3                0.0            0.0       1.0        0.0        0.0   \n",
       "4                0.0            0.0       0.0        0.0        0.0   \n",
       "\n",
       "   institutions  immigration  international  outre-mer  pouvoir d’achat  \\\n",
       "0           0.0          0.0            0.0        0.0              0.0   \n",
       "1           0.0          0.0            0.0        0.0              0.0   \n",
       "2           0.0          0.0            1.0        0.0              0.0   \n",
       "3           0.0          0.0            1.0        0.0              0.0   \n",
       "4           0.0          1.0            1.0        0.0              0.0   \n",
       "\n",
       "   social  services publics  santé  sécurité / justice  vie politique  \n",
       "0     1.0               0.0    0.0                 0.0            0.0  \n",
       "1     1.0               0.0    0.0                 0.0            0.0  \n",
       "2     0.0               0.0    0.0                 0.0            0.0  \n",
       "3     1.0               0.0    0.0                 0.0            0.0  \n",
       "4     0.0               0.0    0.0                 0.0            0.0  "
      ]
     },
     "execution_count": 23,
     "metadata": {},
     "output_type": "execute_result"
    }
   ],
   "source": [
    "labels_arr = np.zeros((data_raw.shape[0], 16))\n",
    "labels_raw = data_raw['topic_idx'].tolist()\n",
    "labels_ints = []\n",
    "for labs in labels_raw:\n",
    "    labels_ints.append([int(value) for value in labs.replace('[', '').replace(']', '').split(',')])\n",
    "\n",
    "for i in range(labels_arr.shape[0]):\n",
    "    labs = labels_ints[i]\n",
    "    for value in labs:\n",
    "        labels_arr[i, value] = 1\n",
    "labels_list = labels_arr.tolist()\n",
    "df_labels = pd.DataFrame(labels_list, columns=dict_labels_index.keys())\n",
    "\n",
    "df_data = pd.concat((data_raw.loc[:, 'data.text'], df_labels), axis=1)\n",
    "df_data.head()"
   ]
  },
  {
   "cell_type": "code",
   "execution_count": 24,
   "metadata": {},
   "outputs": [
    {
     "data": {
      "text/html": [
       "<div>\n",
       "<style scoped>\n",
       "    .dataframe tbody tr th:only-of-type {\n",
       "        vertical-align: middle;\n",
       "    }\n",
       "\n",
       "    .dataframe tbody tr th {\n",
       "        vertical-align: top;\n",
       "    }\n",
       "\n",
       "    .dataframe thead th {\n",
       "        text-align: right;\n",
       "    }\n",
       "</style>\n",
       "<table border=\"1\" class=\"dataframe\">\n",
       "  <thead>\n",
       "    <tr style=\"text-align: right;\">\n",
       "      <th></th>\n",
       "      <th>data.text</th>\n",
       "      <th>autre</th>\n",
       "      <th>culture et médias</th>\n",
       "      <th>environnement</th>\n",
       "      <th>économie</th>\n",
       "      <th>éducation</th>\n",
       "      <th>fiscalité</th>\n",
       "      <th>institutions</th>\n",
       "      <th>immigration</th>\n",
       "      <th>international</th>\n",
       "      <th>outre-mer</th>\n",
       "      <th>pouvoir d’achat</th>\n",
       "      <th>social</th>\n",
       "      <th>services publics</th>\n",
       "      <th>santé</th>\n",
       "      <th>sécurité / justice</th>\n",
       "      <th>vie politique</th>\n",
       "      <th>nlabels</th>\n",
       "    </tr>\n",
       "  </thead>\n",
       "  <tbody>\n",
       "    <tr>\n",
       "      <th>0</th>\n",
       "      <td>Stop #ViolenceAgainstWomen!\\n\\n#OrangeTheWorld...</td>\n",
       "      <td>0.0</td>\n",
       "      <td>0.0</td>\n",
       "      <td>0.0</td>\n",
       "      <td>0.0</td>\n",
       "      <td>0.0</td>\n",
       "      <td>0.0</td>\n",
       "      <td>0.0</td>\n",
       "      <td>0.0</td>\n",
       "      <td>0.0</td>\n",
       "      <td>0.0</td>\n",
       "      <td>0.0</td>\n",
       "      <td>1.0</td>\n",
       "      <td>0.0</td>\n",
       "      <td>0.0</td>\n",
       "      <td>0.0</td>\n",
       "      <td>0.0</td>\n",
       "      <td>1.0</td>\n",
       "    </tr>\n",
       "    <tr>\n",
       "      <th>1</th>\n",
       "      <td>La violence à l’égard des femmes reste une urg...</td>\n",
       "      <td>0.0</td>\n",
       "      <td>0.0</td>\n",
       "      <td>0.0</td>\n",
       "      <td>0.0</td>\n",
       "      <td>0.0</td>\n",
       "      <td>0.0</td>\n",
       "      <td>0.0</td>\n",
       "      <td>0.0</td>\n",
       "      <td>0.0</td>\n",
       "      <td>0.0</td>\n",
       "      <td>0.0</td>\n",
       "      <td>1.0</td>\n",
       "      <td>0.0</td>\n",
       "      <td>0.0</td>\n",
       "      <td>0.0</td>\n",
       "      <td>0.0</td>\n",
       "      <td>1.0</td>\n",
       "    </tr>\n",
       "    <tr>\n",
       "      <th>2</th>\n",
       "      <td>« Notre position sur le Mercosur, depuis 2019,...</td>\n",
       "      <td>0.0</td>\n",
       "      <td>0.0</td>\n",
       "      <td>0.0</td>\n",
       "      <td>1.0</td>\n",
       "      <td>0.0</td>\n",
       "      <td>0.0</td>\n",
       "      <td>0.0</td>\n",
       "      <td>0.0</td>\n",
       "      <td>1.0</td>\n",
       "      <td>0.0</td>\n",
       "      <td>0.0</td>\n",
       "      <td>0.0</td>\n",
       "      <td>0.0</td>\n",
       "      <td>0.0</td>\n",
       "      <td>0.0</td>\n",
       "      <td>0.0</td>\n",
       "      <td>2.0</td>\n",
       "    </tr>\n",
       "    <tr>\n",
       "      <th>3</th>\n",
       "      <td>Nouvelle session plénière à Strasbourg ! À l’o...</td>\n",
       "      <td>0.0</td>\n",
       "      <td>0.0</td>\n",
       "      <td>0.0</td>\n",
       "      <td>1.0</td>\n",
       "      <td>0.0</td>\n",
       "      <td>0.0</td>\n",
       "      <td>0.0</td>\n",
       "      <td>0.0</td>\n",
       "      <td>1.0</td>\n",
       "      <td>0.0</td>\n",
       "      <td>0.0</td>\n",
       "      <td>1.0</td>\n",
       "      <td>0.0</td>\n",
       "      <td>0.0</td>\n",
       "      <td>0.0</td>\n",
       "      <td>0.0</td>\n",
       "      <td>3.0</td>\n",
       "    </tr>\n",
       "    <tr>\n",
       "      <th>4</th>\n",
       "      <td>Désaveu cinglant pour Meloni qui se résout à r...</td>\n",
       "      <td>0.0</td>\n",
       "      <td>0.0</td>\n",
       "      <td>0.0</td>\n",
       "      <td>0.0</td>\n",
       "      <td>0.0</td>\n",
       "      <td>0.0</td>\n",
       "      <td>0.0</td>\n",
       "      <td>1.0</td>\n",
       "      <td>1.0</td>\n",
       "      <td>0.0</td>\n",
       "      <td>0.0</td>\n",
       "      <td>0.0</td>\n",
       "      <td>0.0</td>\n",
       "      <td>0.0</td>\n",
       "      <td>0.0</td>\n",
       "      <td>0.0</td>\n",
       "      <td>2.0</td>\n",
       "    </tr>\n",
       "  </tbody>\n",
       "</table>\n",
       "</div>"
      ],
      "text/plain": [
       "                                           data.text  autre  \\\n",
       "0  Stop #ViolenceAgainstWomen!\\n\\n#OrangeTheWorld...    0.0   \n",
       "1  La violence à l’égard des femmes reste une urg...    0.0   \n",
       "2  « Notre position sur le Mercosur, depuis 2019,...    0.0   \n",
       "3  Nouvelle session plénière à Strasbourg ! À l’o...    0.0   \n",
       "4  Désaveu cinglant pour Meloni qui se résout à r...    0.0   \n",
       "\n",
       "   culture et médias  environnement  économie  éducation  fiscalité  \\\n",
       "0                0.0            0.0       0.0        0.0        0.0   \n",
       "1                0.0            0.0       0.0        0.0        0.0   \n",
       "2                0.0            0.0       1.0        0.0        0.0   \n",
       "3                0.0            0.0       1.0        0.0        0.0   \n",
       "4                0.0            0.0       0.0        0.0        0.0   \n",
       "\n",
       "   institutions  immigration  international  outre-mer  pouvoir d’achat  \\\n",
       "0           0.0          0.0            0.0        0.0              0.0   \n",
       "1           0.0          0.0            0.0        0.0              0.0   \n",
       "2           0.0          0.0            1.0        0.0              0.0   \n",
       "3           0.0          0.0            1.0        0.0              0.0   \n",
       "4           0.0          1.0            1.0        0.0              0.0   \n",
       "\n",
       "   social  services publics  santé  sécurité / justice  vie politique  nlabels  \n",
       "0     1.0               0.0    0.0                 0.0            0.0      1.0  \n",
       "1     1.0               0.0    0.0                 0.0            0.0      1.0  \n",
       "2     0.0               0.0    0.0                 0.0            0.0      2.0  \n",
       "3     1.0               0.0    0.0                 0.0            0.0      3.0  \n",
       "4     0.0               0.0    0.0                 0.0            0.0      2.0  "
      ]
     },
     "execution_count": 24,
     "metadata": {},
     "output_type": "execute_result"
    }
   ],
   "source": [
    "df_data['nlabels'] = df_data.iloc[:, 1:].sum(axis=1)\n",
    "df_data.head()"
   ]
  },
  {
   "cell_type": "code",
   "execution_count": 25,
   "metadata": {},
   "outputs": [],
   "source": [
    "d_nlabels = {col: 0 for col in df_data.columns}"
   ]
  },
  {
   "cell_type": "code",
   "execution_count": 30,
   "metadata": {},
   "outputs": [
    {
     "name": "stdout",
     "output_type": "stream",
     "text": [
      "data.text : nan\n",
      "autre : 1.00\n",
      "culture et médias : 1.53\n",
      "environnement : 1.76\n",
      "économie : 2.04\n",
      "éducation : 1.79\n",
      "fiscalité : 1.72\n",
      "institutions : 2.03\n",
      "immigration : 1.50\n",
      "international : 1.59\n",
      "outre-mer : 1.37\n",
      "pouvoir d’achat : 1.72\n",
      "social : 1.67\n",
      "services publics : 2.07\n",
      "santé : 2.17\n",
      "sécurité / justice : 1.72\n",
      "vie politique : 1.41\n",
      "nlabels : 1.00\n"
     ]
    }
   ],
   "source": [
    "for col in df_data.columns:\n",
    "    d_nlabels[col] = df_data.loc[df_data[col] == 1, 'nlabels'].mean()\n",
    "\n",
    "for k,v in d_nlabels.items():\n",
    "    print(f\"{k} : {v:.2f}\")   "
   ]
  },
  {
   "cell_type": "markdown",
   "metadata": {},
   "source": [
    "# Data"
   ]
  },
  {
   "cell_type": "code",
   "execution_count": 13,
   "metadata": {},
   "outputs": [
    {
     "name": "stdout",
     "output_type": "stream",
     "text": [
      "..\\data\\collecte du 26 decembre\n",
      "..\\data\\collecte du 26 novembre\n",
      "..\\data\\infos collecte données communalytics.txt\n",
      "..\\data\\project-1-at-2024-12-23-15-32-de79597b.csv\n",
      "..\\data\\project-1-at-2024-12-23-15-44-7d7b1a28.json\n",
      "..\\data\\project-1-at-2024-12-26-10-59-82fcc174.json\n",
      "..\\data\\collecte du 26 decembre\\bluesky-comptes-politiques-1-new_-only-new.csv\n",
      "..\\data\\collecte du 26 decembre\\bluesky-comptes-politiques-1-new_-only-new2.csv\n",
      "..\\data\\collecte du 26 decembre\\bluesky-comptes-politiques-1-new_.csv\n",
      "..\\data\\collecte du 26 decembre\\bluesky-comptes-politiques-1-new_.xlsx\n",
      "..\\data\\collecte du 26 decembre\\bluesky-comptes-politiques-2-new_-only-new.csv\n",
      "..\\data\\collecte du 26 decembre\\bluesky-comptes-politiques-2-new_.csv\n",
      "..\\data\\collecte du 26 decembre\\bluesky-comptes-politiques-2-new_.xlsx\n",
      "..\\data\\collecte du 26 decembre\\bluesky-comptes-politiques-3-new_-only-new.csv\n",
      "..\\data\\collecte du 26 decembre\\bluesky-comptes-politiques-3-new_.csv\n",
      "..\\data\\collecte du 26 decembre\\bluesky-comptes-politiques-3-new_.xlsx\n",
      "..\\data\\collecte du 26 decembre\\bluesky-comptes-politiques-renaissance_.csv\n",
      "..\\data\\collecte du 26 decembre\\bluesky-comptes-politiques-renaissance_.xlsx\n",
      "..\\data\\collecte du 26 decembre\\bluesky-comptes-politiques-rn_.csv\n",
      "..\\data\\collecte du 26 decembre\\bluesky-comptes-politiques-rn_.xlsx\n",
      "..\\data\\collecte du 26 novembre\\bluesky-comptes-politiques-2_.csv\n",
      "..\\data\\collecte du 26 novembre\\bluesky-comptes-politiques-2_.xlsx\n",
      "..\\data\\collecte du 26 novembre\\bluesky-comptes-politiques-3_.csv\n",
      "..\\data\\collecte du 26 novembre\\bluesky-comptes-politiques-3_.xlsx\n",
      "..\\data\\collecte du 26 novembre\\bluesky-comptes-politiques_.csv\n",
      "..\\data\\collecte du 26 novembre\\bluesky-comptes-politiques_.xlsx\n",
      "..\\data\\collecte du 26 novembre\\bluesky-politique_.csv\n",
      "..\\data\\collecte du 26 novembre\\bluesky-politique_.xlsx\n"
     ]
    }
   ],
   "source": [
    "dir_data = '../data'\n",
    "path = pathlib.Path(dir_data)\n",
    "for p in path.rglob(\"*\"):\n",
    "    print(p)"
   ]
  },
  {
   "cell_type": "code",
   "execution_count": 27,
   "metadata": {},
   "outputs": [
    {
     "data": {
      "text/plain": [
       "Timestamp('2024-11-25 19:31:55.840000')"
      ]
     },
     "execution_count": 27,
     "metadata": {},
     "output_type": "execute_result"
    }
   ],
   "source": [
    "df_pol_1 = pd.read_csv(\"../data/collecte du 26 novembre/bluesky-comptes-politiques_.csv\")\n",
    "df_pol_1['date'] = pd.to_datetime(df_pol_1['date'], format=\"ISO8601\")\n",
    "df_pol_1.sort_values(by='date', ascending=False, inplace=True)\n",
    "datetime_first_collect_df_pol_1 = df_pol_1.date.iloc[0]\n",
    "datetime_first_collect_df_pol_1"
   ]
  },
  {
   "cell_type": "code",
   "execution_count": 28,
   "metadata": {},
   "outputs": [
    {
     "data": {
      "text/plain": [
       "Timestamp('2024-11-26 08:59:51.052000')"
      ]
     },
     "execution_count": 28,
     "metadata": {},
     "output_type": "execute_result"
    }
   ],
   "source": [
    "df_pol_2 = pd.read_csv(\"../data/collecte du 26 novembre/bluesky-comptes-politiques-2_.csv\")\n",
    "df_pol_2['date'] = pd.to_datetime(df_pol_2['date'], format=\"ISO8601\")\n",
    "df_pol_2.sort_values(by='date', ascending=False, inplace=True)\n",
    "datetime_first_collect_df_pol_2 = df_pol_2.date.iloc[0]\n",
    "datetime_first_collect_df_pol_2"
   ]
  },
  {
   "cell_type": "code",
   "execution_count": 29,
   "metadata": {},
   "outputs": [
    {
     "data": {
      "text/plain": [
       "Timestamp('2024-11-26 08:47:08.359000')"
      ]
     },
     "execution_count": 29,
     "metadata": {},
     "output_type": "execute_result"
    }
   ],
   "source": [
    "df_pol_3 = pd.read_csv(\"../data/collecte du 26 novembre/bluesky-comptes-politiques-3_.csv\")\n",
    "df_pol_3['date'] = pd.to_datetime(df_pol_3['date'], format=\"ISO8601\")\n",
    "df_pol_3.sort_values(by='date', ascending=False, inplace=True)\n",
    "datetime_first_collect_df_pol_3 = df_pol_3.date.iloc[0]\n",
    "datetime_first_collect_df_pol_3"
   ]
  },
  {
   "cell_type": "code",
   "execution_count": 36,
   "metadata": {},
   "outputs": [
    {
     "name": "stdout",
     "output_type": "stream",
     "text": [
      "(203, 15)\n"
     ]
    }
   ],
   "source": [
    "df_pol_new_1 = pd.read_csv(\"../data/collecte du 26 decembre/bluesky-comptes-politiques-1-new_.csv\")\n",
    "df_pol_new_1['date'] = pd.to_datetime(df_pol_new_1['date'], format=\"ISO8601\")\n",
    "df_pol_new_1.sort_values(by='date', ascending=False, inplace=True)\n",
    "df_pol_1_only_new = df_pol_new_1[df_pol_new_1.date >= datetime_first_collect_df_pol_1]\n",
    "print(df_pol_1_only_new.shape)\n",
    "df_pol_1_only_new.to_csv(\"../data/collecte du 26 decembre/bluesky-comptes-politiques-1-only-new_.csv\", sep=',', index=False)\n"
   ]
  },
  {
   "cell_type": "code",
   "execution_count": 37,
   "metadata": {},
   "outputs": [
    {
     "name": "stdout",
     "output_type": "stream",
     "text": [
      "(100, 15)\n"
     ]
    }
   ],
   "source": [
    "df_pol_new_2 = pd.read_csv(\"../data/collecte du 26 decembre/bluesky-comptes-politiques-2-new_.csv\")\n",
    "df_pol_new_2['date'] = pd.to_datetime(df_pol_new_2['date'], format=\"ISO8601\")\n",
    "df_pol_new_2.sort_values(by='date', ascending=False, inplace=True)\n",
    "df_pol_2_only_new = df_pol_new_2[df_pol_new_2.date >= datetime_first_collect_df_pol_2]\n",
    "print(df_pol_2_only_new.shape)\n",
    "df_pol_2_only_new.to_csv(\"../data/collecte du 26 decembre/bluesky-comptes-politiques-2-only-new_.csv\", sep=',', index=False)\n"
   ]
  },
  {
   "cell_type": "code",
   "execution_count": 39,
   "metadata": {},
   "outputs": [
    {
     "name": "stdout",
     "output_type": "stream",
     "text": [
      "(169, 15)\n"
     ]
    }
   ],
   "source": [
    "df_pol_new_3 = pd.read_csv(\"../data/collecte du 26 decembre/bluesky-comptes-politiques-3-new_.csv\")\n",
    "df_pol_new_3['date'] = pd.to_datetime(df_pol_new_3['date'], format=\"ISO8601\")\n",
    "df_pol_new_3.sort_values(by='date', ascending=False, inplace=True)\n",
    "df_pol_3_only_new = df_pol_new_3[df_pol_new_3.date >= datetime_first_collect_df_pol_3]\n",
    "print(df_pol_3_only_new.shape)\n",
    "df_pol_3_only_new.to_csv(\"../data/collecte du 26 decembre/bluesky-comptes-politiques-3-only-new_.csv\", sep=',', index=False)\n"
   ]
  },
  {
   "cell_type": "code",
   "execution_count": 71,
   "metadata": {},
   "outputs": [
    {
     "name": "stdout",
     "output_type": "stream",
     "text": [
      "(2074, 15)\n"
     ]
    }
   ],
   "source": [
    "df_renaissance = pd.read_csv(\"../data/collecte du 26 decembre/bluesky-comptes-politiques-renaissance_.csv\")\n",
    "df_renaissance['date'] = pd.to_datetime(df_renaissance['date'], format=\"ISO8601\")\n",
    "df_renaissance.sort_values(by='date', ascending=True, inplace=True)\n",
    "df_renaissance.dropna(subset=['text'], inplace=True) # Pas de texte vide\n",
    "df_renaissance = df_renaissance[df_renaissance.loc[:, 'text'].str.len() >= 30] # Posts d'au moins 20 caractères\n",
    "df_renaissance.reset_index(drop=True)\n",
    "print(df_renaissance.shape)\n",
    "df_renaissance_sampled = df_renaissance.sample(200, random_state=42).copy() # 42 pour répétabilité\n",
    "\n",
    "with open(\"../data/collecte du 26 decembre/index_renaissance.txt\", \"w\") as file:\n",
    "    file.write(\"used_index\\n\")\n",
    "    indeces = df_renaissance_sampled.index.to_list()\n",
    "    for index in indeces:\n",
    "        file.write(str(index))\n",
    "        file.write('\\n')\n",
    "\n",
    "df_renaissance_sampled.to_csv(\"../data/collecte du 26 decembre/bluesky-comptes-politiques-renaissance-sampled_.csv\", sep=',', index=False)\n"
   ]
  }
 ],
 "metadata": {
  "kernelspec": {
   "display_name": "Python3 (projet-ensae)",
   "language": "python",
   "name": "projet-ensae"
  },
  "language_info": {
   "codemirror_mode": {
    "name": "ipython",
    "version": 3
   },
   "file_extension": ".py",
   "mimetype": "text/x-python",
   "name": "python",
   "nbconvert_exporter": "python",
   "pygments_lexer": "ipython3",
   "version": "3.12.7"
  }
 },
 "nbformat": 4,
 "nbformat_minor": 2
}
